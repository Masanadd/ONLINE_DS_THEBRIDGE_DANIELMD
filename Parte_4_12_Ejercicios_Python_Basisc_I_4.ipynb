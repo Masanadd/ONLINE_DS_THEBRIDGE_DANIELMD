{
 "cells": [
  {
   "cell_type": "markdown",
   "metadata": {
    "id": "XZ-4DdVYrK0g"
   },
   "source": [
    "![TheBridge_logo_RGB_color.jpg](attachment:TheBridge_logo_RGB_color.jpg)"
   ]
  },
  {
   "cell_type": "markdown",
   "metadata": {
    "id": "8tPbhxnNrK0j"
   },
   "source": [
    "![imagen](./img/ejercicios.png)"
   ]
  },
  {
   "cell_type": "markdown",
   "metadata": {
    "id": "6-wyZ5orrK0k"
   },
   "source": [
    "## EJERCICIOS PYTHON BASICO 4:\n",
    "## Funciones, métodos, listas"
   ]
  },
  {
   "cell_type": "markdown",
   "metadata": {
    "id": "Ehc-9iYKrK0k"
   },
   "source": [
    "Completa los siguiente ejercicios, la solución completa a los mismos se publicarán en el repo del curso a lo largo del sprint. En algunos ejercicios se muestra la solución final, para que puedas comprobar que lo has hecho bien, pero lo importante es el código que generes. ¡Vaaamos, a ello...!"
   ]
  },
  {
   "cell_type": "markdown",
   "metadata": {
    "id": "5FCOz5znrK0l"
   },
   "source": [
    "![ejercicio.png](./img/ejercicio.png)\n",
    "\n",
    "## Ejercicio 1\n",
    "Para este ejercicio vamos a poner en práctica [las funciones built in](https://docs.python.org/3/library/functions.html).\n",
    "\n",
    "1. Calcula el máximo de la lista: [4, 6, 8, -1]\n",
    "2. Suma todos los elementos de la lista anterior\n",
    "3. Redondea este float a 3 dígitos decimales: 63.451256965\n",
    "4. Valor absoluto de: -74"
   ]
  },
  {
   "cell_type": "code",
   "execution_count": 3,
   "metadata": {
    "id": "TBplx2J8rK0l"
   },
   "outputs": [
    {
     "name": "stdout",
     "output_type": "stream",
     "text": [
      "8\n",
      "17\n",
      "63.451\n",
      "74\n"
     ]
    }
   ],
   "source": [
    "lista=[4,6,8,-1]\n",
    "maximo=max(lista)\n",
    "print(maximo)\n",
    "suma_lista=sum(lista)\n",
    "print(suma_lista)\n",
    "numero_float=63.451256965\n",
    "redondeado_num=round(numero_float,3)\n",
    "print(redondeado_num)\n",
    "valor_abs=abs(-74)\n",
    "print(valor_abs)\n"
   ]
  },
  {
   "cell_type": "markdown",
   "metadata": {
    "id": "ROZNhJcUrK0l"
   },
   "source": [
    "![ejercicio.png](./img/ejercicio.png)\n",
    "\n",
    "## Ejercicio 2\n",
    "Para el siguiente string se pide imprimir por pantalla los siguientes casos\n",
    "\n",
    "    \"En un lugar de la Mancha, de cuyo nombre no quiero acordarme.\"\n",
    "\n",
    "1. Pásalo todo a mayúsculas\n",
    "2. Pásalo todo a minúsculas\n",
    "3. Solo la primera letra de cada palabra en mayúscula, el resto en minúscula\n",
    "4. Crea una lista dividiéndolo por sus espacios\n",
    "5. Sustituye las comas `,` por puntos y comas `;`\n",
    "6. Elimina las `a` minúsculas"
   ]
  },
  {
   "cell_type": "code",
   "execution_count": 9,
   "metadata": {
    "id": "sTMchw78rK0m",
    "outputId": "637351a3-e37e-4831-fdc0-0c82ddff202a"
   },
   "outputs": [
    {
     "name": "stdout",
     "output_type": "stream",
     "text": [
      "EN UN LUGAR DE LA MANCHA, DE CUYO NOMBRE NO QUIERO ACORDARME.\n",
      "en un lugar de la mancha, de cuyo nombre no quiero acordarme.\n",
      "En Un Lugar De La Mancha, De Cuyo Nombre No Quiero Acordarme.\n",
      "['En', 'un', 'lugar', 'de', 'la', 'Mancha,', 'de', 'cuyo', 'nombre', 'no', 'quiero', 'acordarme.']\n",
      "En un lugar de la Mancha; de cuyo nombre no quiero acordarme.\n",
      "En un lugr de l Mnch, de cuyo nombre no quiero cordrme.\n"
     ]
    }
   ],
   "source": [
    "texto=\"En un lugar de la Mancha, de cuyo nombre no quiero acordarme.\"\n",
    "mayusculas=texto.upper()\n",
    "print(mayusculas)\n",
    "minuscula=texto.lower()\n",
    "print(minuscula)\n",
    "cap_primera=texto.title()\n",
    "print(cap_primera)\n",
    "espacio_pal=texto.split()\n",
    "print(espacio_pal)\n",
    "sust_text=texto.replace(\",\",\";\")\n",
    "print(sust_text)\n",
    "elim_min=texto.replace(\"a\",\"\")\n",
    "print(elim_min)\n"
   ]
  },
  {
   "cell_type": "markdown",
   "metadata": {
    "id": "AMoSsxyXrK0n"
   },
   "source": [
    "![ejercicio.png](./img/ejercicio.png)\n",
    "\n",
    "## Ejercicio 3\n",
    "1. Crea una lista con 3 elementos numéricos\n",
    "2. Añade un cuarto elemento\n",
    "3. Calcula la suma de todos\n",
    "4. Elimina el segundo elemento de la lista\n",
    "5. Añade otro elemento en la posicion 3 de la lista\n",
    "6. Crea otra lista con 4 elementos y concaténala a la que ya tenías.\n",
    "7. Ordena la lista de menor a mayor.\n",
    "8. BONUS: Ordena la lista de mayor a menor.  \n",
    "(*PISTA: Para hacer 8, tendrás que buscar en la información del método...*)  \n",
    "  \n",
    "  \n",
    "NOTA: Pinta por pantalla el resultado de cada paso."
   ]
  },
  {
   "cell_type": "code",
   "execution_count": 26,
   "metadata": {
    "id": "H-tCQUD5rK0n",
    "outputId": "9ba1a080-43a7-47bb-98b8-4d979f79c819"
   },
   "outputs": [
    {
     "name": "stdout",
     "output_type": "stream",
     "text": [
      "[3, 5, 9]\n",
      "<built-in method append of list object at 0x000002234CC0ADC0> [3, 5, 9, 11]\n",
      "28\n",
      "[3, 9, 11]\n",
      "[3, 9, 7, 11]\n",
      "[3, 9, 7, 11, 2, 4, 6, 8]\n",
      "[2, 3, 4, 6, 7, 8, 9, 11]\n",
      "[11, 9, 8, 7, 6, 4, 3, 2]\n"
     ]
    }
   ],
   "source": [
    "lista=[3,5,9]\n",
    "print(lista)\n",
    "lista.append(11)\n",
    "print(lista.append,lista)\n",
    "suma=sum(lista)\n",
    "print(suma)\n",
    "del lista[1]\n",
    "print(lista)\n",
    "lista.insert(2,7)\n",
    "print(lista)\n",
    "lista_1=[2,4,6,8]\n",
    "lista.extend(lista_1)\n",
    "print(lista)\n",
    "lista.sort()\n",
    "print(lista)\n",
    "lista.reverse()\n",
    "print(lista)\n",
    "\n",
    "\n",
    "\n",
    "\n"
   ]
  },
  {
   "cell_type": "code",
   "execution_count": null,
   "metadata": {},
   "outputs": [],
   "source": []
  }
 ],
 "metadata": {
  "colab": {
   "provenance": []
  },
  "kernelspec": {
   "display_name": "Python 3 (ipykernel)",
   "language": "python",
   "name": "python3"
  },
  "language_info": {
   "codemirror_mode": {
    "name": "ipython",
    "version": 3
   },
   "file_extension": ".py",
   "mimetype": "text/x-python",
   "name": "python",
   "nbconvert_exporter": "python",
   "pygments_lexer": "ipython3",
   "version": "3.13.0"
  }
 },
 "nbformat": 4,
 "nbformat_minor": 4
}
