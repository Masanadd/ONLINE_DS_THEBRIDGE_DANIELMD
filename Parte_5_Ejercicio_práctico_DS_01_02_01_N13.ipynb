{
 "cells": [
  {
   "cell_type": "markdown",
   "metadata": {
    "id": "9l3HMgm6RWxF"
   },
   "source": [
    "![TheBridge_logo_RGB_color.jpg](attachment:TheBridge_logo_RGB_color.jpg)"
   ]
  },
  {
   "cell_type": "markdown",
   "metadata": {
    "id": "RGg9iWpoRWxG"
   },
   "source": [
    "![ejercicios.png](attachment:ejercicios.png)"
   ]
  },
  {
   "cell_type": "markdown",
   "metadata": {
    "id": "AyOlWS2nRWxH"
   },
   "source": [
    "## PRACTICA OBLIGATORIA: COLECCIONES Y FUNCIONES"
   ]
  },
  {
   "cell_type": "markdown",
   "metadata": {
    "id": "6UOgb0KVRWxH"
   },
   "source": [
    "* La práctica obligatoria de esta unidad consiste varios ejercicios de programación libre a completar sobre Colecciones y Funciones. Descarga este notebook en tu ordenador y trabaja en local.  \n",
    "* Recuerda que debes subirla a tu repositorio personal antes de la sesión en vivo para que puntúe adecuadamente y puedas participar en dicha sesión.  \n",
    "* Recuerda también que no es necesario que esté perfecta, sólo es necesario que se vea el esfuerzo.\n",
    "* Esta práctica se resolverá en la sesión en vivo correspondiente y la solución se publicará en el repo del curso."
   ]
  },
  {
   "cell_type": "markdown",
   "metadata": {
    "id": "j3yu-tEjRWxH"
   },
   "source": [
    "### Contenidos"
   ]
  },
  {
   "cell_type": "markdown",
   "metadata": {
    "id": "kO-fLH39RWxH"
   },
   "source": [
    "## Ejercicio 1\n",
    "Eleva todos los elementos de la lista al cuadrado\n",
    "> ```ejer_2 = [1,2,3,4,5]```"
   ]
  },
  {
   "cell_type": "code",
   "execution_count": 6,
   "metadata": {
    "id": "ks5l3yi7RWxH"
   },
   "outputs": [
    {
     "name": "stdout",
     "output_type": "stream",
     "text": [
      "[1, 2, 3, 4, 5]\n",
      "[1, 4, 9, 16, 25]\n"
     ]
    }
   ],
   "source": [
    "ejer_2 = [1,2,3,4,5]\n",
    "print(ejer_2)\n",
    "pot_2=[x**2 for x in ejer_2]\n",
    "print(pot_2)\n",
    "\n"
   ]
  },
  {
   "cell_type": "markdown",
   "metadata": {
    "id": "kI_Xr5oFRWxI"
   },
   "source": [
    "## Ejercicio 2\n",
    "Haz un programa que detecte todos los duplicados de un elemento en una lista:\n",
    "* Utiliza una variable duplicado para asignarle el valor del elemento del que queremos encontrar todos sus duplicados.\n",
    "* El programa debe devolver todos los índices de los elementos duplicados.\n",
    "* Aplícalo para encontrar los duplicados de \"un\", \"es\" y \"binario\" de:  \n",
    "\n",
    ">```ejer_3 = [\"Un\", \"árbol\", \"binario\", \"es\", \"una\", \"estructura\", \"de\", \"un\", \"tipo\", \"particular\", \"a\", \"veces\", \"no\", \"es\", \"ni\", \"binario\"]```\n"
   ]
  },
  {
   "cell_type": "code",
   "execution_count": 52,
   "metadata": {
    "id": "cLY9WB7YRWxI"
   },
   "outputs": [
    {
     "name": "stdout",
     "output_type": "stream",
     "text": [
      "Índices de 'un': [7]\n",
      "Índices de 'es': [3, 13]\n",
      "Índices de 'binario': [2, 15]\n"
     ]
    }
   ],
   "source": [
    "ejer_3 = [\"Un\", \"árbol\", \"binario\", \"es\", \"una\", \"estructura\", \"de\", \"un\", \"tipo\", \"particular\", \"a\", \"veces\", \"no\", \"es\", \"ni\", \"binario\"]\n",
    "def encontrar_dup (ejer_3, duplicado):\n",
    "    duplicado = duplicado.lower()\n",
    "    indices=[i for i, palabra  in  enumerate(ejer_3) if palabra ==duplicado]\n",
    "    return indices\n",
    "duplicado=\"un\"\n",
    "indices_dup=encontrar_dup(ejer_3,duplicado)\n",
    "print(f\"Índices de '{duplicado}': {indices_dup}\")\n",
    "duplicado=\"es\"\n",
    "indices_dup=encontrar_dup(ejer_3,duplicado)\n",
    "print(f\"Índices de '{duplicado}': {indices_dup}\")\n",
    "duplicado=\"binario\"\n",
    "indices_dup=encontrar_dup(ejer_3,duplicado)\n",
    "print(f\"Índices de '{duplicado}': {indices_dup}\")\n",
    "    "
   ]
  },
  {
   "cell_type": "markdown",
   "metadata": {
    "id": "3WrBd5QaRWxI"
   },
   "source": [
    "## Ejercicio 3\n",
    "1. ¿Cuántas veces se repite el 3 en la siguiente tupla?\n",
    "2. Crea una tupla nueva con los elementos desde la posicion 5 a la 10.\n",
    "3. ¿Cuántos elementos tiene la tupla `ejer_3`?\n",
    "> ```ejer_9 = (3, 20, 3, 47, 19, 3, 29, 45, 67, 78, 90, 3, 3, 5, 2, 4, 7, 9, 4, 2, 4, 3, 3, 4, 6, 7)```"
   ]
  },
  {
   "cell_type": "code",
   "execution_count": 54,
   "metadata": {
    "id": "bkv_R5LYRWxI"
   },
   "outputs": [
    {
     "data": {
      "text/plain": [
       "16"
      ]
     },
     "execution_count": 54,
     "metadata": {},
     "output_type": "execute_result"
    }
   ],
   "source": [
    "len(ejer_3)"
   ]
  },
  {
   "cell_type": "code",
   "execution_count": 58,
   "metadata": {},
   "outputs": [
    {
     "data": {
      "text/plain": [
       "7"
      ]
     },
     "execution_count": 58,
     "metadata": {},
     "output_type": "execute_result"
    }
   ],
   "source": [
    "ejer_9 = (3, 20, 3, 47, 19, 3, 29, 45, 67, 78, 90, 3, 3, 5, 2, 4, 7, 9, 4, 2, 4, 3, 3, 4, 6, 7)\n",
    "ejer_9.count(3)\n"
   ]
  },
  {
   "cell_type": "code",
   "execution_count": 69,
   "metadata": {},
   "outputs": [
    {
     "name": "stdout",
     "output_type": "stream",
     "text": [
      "(3, 29, 45, 67, 78, 90)\n"
     ]
    }
   ],
   "source": [
    "ejer_9 = (3, 20, 3, 47, 19, 3, 29, 45, 67, 78, 90, 3, 3, 5, 2, 4, 7, 9, 4, 2, 4, 3, 3, 4, 6, 7)\n",
    "slice (ejer_9)\n",
    "tupla=ejer_9[5:11]\n",
    "print(tupla)"
   ]
  },
  {
   "cell_type": "markdown",
   "metadata": {
    "id": "6g8Y54AeRWxI"
   },
   "source": [
    "## Ejercicio 4\n",
    "Comprueba si el numero 60 esta en la tupla del ejercicio 3"
   ]
  },
  {
   "cell_type": "code",
   "execution_count": 70,
   "metadata": {
    "id": "F8VTEZonRWxI"
   },
   "outputs": [
    {
     "data": {
      "text/plain": [
       "0"
      ]
     },
     "execution_count": 70,
     "metadata": {},
     "output_type": "execute_result"
    }
   ],
   "source": [
    "ejer_3.count(60)"
   ]
  },
  {
   "cell_type": "markdown",
   "metadata": {
    "id": "y0fg-ZA6RWxI"
   },
   "source": [
    "## Ejercicio 5\n",
    "1. Convierte la tupla del ejercicio 3 en una lista\n",
    "2. Convierte la tupla del ejercicio 3 en un set\n",
    "3. Convierte la tupla del ejercicio 3 en un diccionario. Usa también los indices"
   ]
  },
  {
   "cell_type": "code",
   "execution_count": 83,
   "metadata": {
    "id": "_O5hXr01RWxI"
   },
   "outputs": [
    {
     "name": "stdout",
     "output_type": "stream",
     "text": [
      "[3, 20, 3, 47, 19, 3, 29, 45, 67, 78, 90, 3, 3, 5, 2, 4, 7, 9, 4, 2, 4, 3, 3, 4, 6, 7]\n",
      "{2, 3, 67, 5, 4, 7, 6, 9, 45, 78, 47, 19, 20, 90, 29}\n",
      "{0: 3, 1: 20, 2: 3, 3: 47, 4: 19, 5: 3, 6: 29, 7: 45, 8: 67, 9: 78, 10: 90, 11: 3, 12: 3, 13: 5, 14: 2, 15: 4, 16: 7, 17: 9, 18: 4, 19: 2, 20: 4, 21: 3, 22: 3, 23: 4, 24: 6, 25: 7}\n"
     ]
    }
   ],
   "source": [
    "ejer_9 = (3, 20, 3, 47, 19, 3, 29, 45, 67, 78, 90, 3, 3, 5, 2, 4, 7, 9, 4, 2, 4, 3, 3, 4, 6, 7)\n",
    "lista=list(ejer_9)\n",
    "print(lista)\n",
    "set_ejer_9=set(ejer_9)\n",
    "print(set_ejer_9)\n",
    "dict_ejer_9={i:valor for i, valor in enumerate (ejer_9)}\n",
    "print(dict_ejer_9)"
   ]
  },
  {
   "cell_type": "markdown",
   "metadata": {
    "id": "eOdWWbxvRWxJ"
   },
   "source": [
    "## Ejercicio 6\n",
    "Multiplica todos los valores del diccionario\n",
    "> ```ejer_6 = {1: 11, 2: 22, 3: 33, 4: 44, 5: 55}```"
   ]
  },
  {
   "cell_type": "code",
   "execution_count": 85,
   "metadata": {
    "id": "KcuByovKRWxJ",
    "scrolled": true
   },
   "outputs": [
    {
     "name": "stdout",
     "output_type": "stream",
     "text": [
      "19326120\n"
     ]
    }
   ],
   "source": [
    "ejer_6 = {1: 11, 2: 22, 3: 33, 4: 44, 5: 55}\n",
    "resultado=1\n",
    "for valor in ejer_6.values():\n",
    "    resultado*=valor\n",
    "print(resultado)"
   ]
  },
  {
   "cell_type": "markdown",
   "metadata": {
    "id": "W7TUSaKRRWxJ"
   },
   "source": [
    "## Ejercicio 7\n",
    "\n",
    "1. Crea un diccionario que describa un libro, con los siguientes campos o claves: \"titulo\",\"autor\",\"idioma original\",\"año de publicación\".\n",
    "2. Crea un a lista, llamada librería.\n",
    "3. Añade cuatro libros a tu elección a la librería."
   ]
  },
  {
   "cell_type": "code",
   "execution_count": 95,
   "metadata": {
    "id": "d-IMRvxRRWxJ",
    "vscode": {
     "languageId": "plaintext"
    }
   },
   "outputs": [],
   "source": [
    "libro_1={\n",
    "    \"titulo\": \"Carrie\",\n",
    "    \"autor\":\"Stephen King\",\n",
    "    \"idioma original\":\"Inglés\",\n",
    "    \"año de publicación\": 1974\n",
    "}\n",
    "libro_2={\n",
    "    \"titulo\": \"Cujo\",\n",
    "    \"autor\":\"Stephen King\",\n",
    "    \"idioma original\":\"Inglés\",\n",
    "    \"año de publicación\": 1981\n",
    "}\n",
    "libro_3={\n",
    "    \"titulo\": \"It\",\n",
    "    \"autor\":\"Stephen King\",\n",
    "    \"idioma original\":\"Inglés\",\n",
    "    \"año de publicación\": 1986\n",
    "}\n",
    "libro_4={\n",
    "    \"titulo\": \"Misery\",\n",
    "    \"autor\":\"Stephen King\",\n",
    "    \"idioma original\":\"Inglés\",\n",
    "    \"año de publicación\": 1987\n",
    "}\n",
    "libreria=[libro_1,libro_2,libro_3,libro_4]\n"
   ]
  },
  {
   "cell_type": "markdown",
   "metadata": {
    "id": "glMoedjYRWxJ"
   },
   "source": [
    "## Ejercicio 8\n",
    "Modifica los valores del idioma de todos los libros del ejercicio anterior para que sea \"esperanto\"\n"
   ]
  },
  {
   "cell_type": "code",
   "execution_count": 96,
   "metadata": {
    "id": "veNdC-uwRWxJ"
   },
   "outputs": [
    {
     "name": "stdout",
     "output_type": "stream",
     "text": [
      "{'titulo': 'Carrie', 'autor': 'Stephen King', 'idioma original': 'Esperanto', 'año de publicación': 1974}\n",
      "{'titulo': 'Cujo', 'autor': 'Stephen King', 'idioma original': 'Esperanto', 'año de publicación': 1981}\n",
      "{'titulo': 'It', 'autor': 'Stephen King', 'idioma original': 'Esperanto', 'año de publicación': 1986}\n",
      "{'titulo': 'Misery', 'autor': 'Stephen King', 'idioma original': 'Esperanto', 'año de publicación': 1987}\n"
     ]
    }
   ],
   "source": [
    "for libro in libreria:\n",
    "    libro[\"idioma original\"] = \"Esperanto\"\n",
    "    print(libro)\n",
    "    "
   ]
  },
  {
   "cell_type": "markdown",
   "metadata": {
    "id": "DRCJG04KRWxJ"
   },
   "source": [
    "## Ejercicio 9\n",
    "1. Escribe un programa que dada una variable titulo busque los libros que hay en la librería con ese título. Si no se encuentra debe devolver el mensaje `Ese no lo tengo, ¿mola?`\n",
    "2. Pruena que el programa con uno de tus libros y con otro que no contenga tu librería."
   ]
  },
  {
   "cell_type": "code",
   "execution_count": 107,
   "metadata": {
    "id": "eWHdJi9BRWxJ"
   },
   "outputs": [
    {
     "name": "stdout",
     "output_type": "stream",
     "text": [
      "{'titulo': 'Carrie', 'autor': 'Stephen King', 'idioma original': 'Esperanto', 'año de publicación': 1974}\n",
      "ese no lo tengo, ¿mola?\n"
     ]
    }
   ],
   "source": [
    "def buscador_libro(titulo):\n",
    "    for libro in libreria:\n",
    "        if libro[\"titulo\"].lower() == titulo.lower():\n",
    "            return libro\n",
    "        return \"ese no lo tengo, ¿mola?\"\n",
    "titulo_a_buscar=\"Carrie\"\n",
    "print(buscador_libro(titulo_a_buscar))\n",
    "titulo_a_buscar_2=\"El resplandor\"\n",
    "print(buscador_libro(titulo_a_buscar_2))"
   ]
  },
  {
   "cell_type": "markdown",
   "metadata": {
    "id": "17YOpYuFRWxJ"
   },
   "source": [
    "## Ejercicio 10\n",
    "Convierte el programa del ejercicio 2 en una función al que se le pase el valor a buscar como un argumento posicional"
   ]
  },
  {
   "cell_type": "code",
   "execution_count": 117,
   "metadata": {
    "id": "xbj0LgvnRWxJ"
   },
   "outputs": [],
   "source": [
    "ejer_3 = [\"Un\", \"árbol\", \"binario\", \"es\", \"una\", \"estructura\", \"de\", \"un\", \"tipo\", \"particular\", \"a\", \"veces\", \"no\", \"es\", \"ni\", \"binario\"]\n",
    "valores_a_buscar = [\"un\", \"es\", \"binario\"]\n",
    "def buscar_valores(ejer_3, valores_a_buscar):\n",
    "    for valor in valores_a_buscar:\n",
    "        indices = encontrar_duplicados(ejer_3, valor)\n",
    "        print({valor}: {indices})\n",
    "\n",
    "print(\n",
    "    "
   ]
  },
  {
   "cell_type": "markdown",
   "metadata": {
    "id": "xZ-sWJxPRWxJ"
   },
   "source": [
    "## Ejercicio 11\n",
    "Convierte el programa del ejercicio 9 en una función al que se le pasen como argumentos la librería, posicional, y el título, argumento keyword con valor \"ninguno\", por defecto."
   ]
  },
  {
   "cell_type": "code",
   "execution_count": 123,
   "metadata": {
    "id": "4-JrsMdNRWxK"
   },
   "outputs": [
    {
     "name": "stdout",
     "output_type": "stream",
     "text": [
      "ese no lo tengo, ¿mola?\n",
      "ese no lo tengo, ¿mola?\n"
     ]
    }
   ],
   "source": [
    "def buscador_libro(libreria,titulo=\"ninguno\"):\n",
    "    for libro in libreria:\n",
    "        if libro[\"titulo\"].lower() == titulo.lower():\n",
    "            return libro\n",
    "        return \"ese no lo tengo, ¿mola?\"\n",
    "titulo_a_buscar=\"Carrie\"\n",
    "print(buscador_libro(libreria))\n",
    "titulo_a_buscar_2=\"El resplandor\"\n",
    "print(buscador_libro(libreria,titulo_a_buscar_2))"
   ]
  },
  {
   "cell_type": "markdown",
   "metadata": {
    "id": "FtJir95QRWxK"
   },
   "source": [
    "## Ejercicio 12\n",
    "Solicitar al usuario que ingrese su dirección email. Imprimir un mensaje indicando si la dirección es válida o no, valiéndose de una función para decidirlo. Una dirección se considerará válida si contiene el símbolo \"@\"."
   ]
  },
  {
   "cell_type": "code",
   "execution_count": 128,
   "metadata": {
    "id": "sk852IZ8RWxK"
   },
   "outputs": [
    {
     "name": "stdin",
     "output_type": "stream",
     "text": [
      "ingresa tu dirección de email dfawef@dsafef\n"
     ]
    }
   ],
   "source": [
    "\n",
    "def email_valido(email):\n",
    "    return \"@\" in email\n",
    "email=input(\"ingresa tu dirección de email\")\n",
    "def email_valido(email):   \n",
    "    if email_valido(email):\n",
    "        print(\"direccion de email valida\")\n",
    "    else: \n",
    "        print(\"direccion de email no es valida\")"
   ]
  },
  {
   "cell_type": "markdown",
   "metadata": {
    "id": "Kw1MWBwBRWxK"
   },
   "source": [
    "## Ejercicio 13\n",
    "Escribe una función que compruebe si un DNI es válido, devolviendo `True` en caso afirmativo.  \n",
    "En primer lugar, el DNI debe tener entre 7 y 8 dígitos numéricos.  \n",
    "Para saber si la letra del DNI es correcta puedes utilizar el siguiente fragmento de código:\n",
    ">```Python\n",
    ">DNI= 55555555\n",
    ">palabra='TRWAGMYFPDXBNJZSQVHLCKE'\n",
    ">print('La letra del DNI es: ', palabra[DNI%23])\n",
    ">````\n"
   ]
  },
  {
   "cell_type": "code",
   "execution_count": null,
   "metadata": {
    "id": "F5Z9rSHqRWxK"
   },
   "outputs": [],
   "source": []
  }
 ],
 "metadata": {
  "colab": {
   "provenance": []
  },
  "kernelspec": {
   "display_name": "Python 3 (ipykernel)",
   "language": "python",
   "name": "python3"
  },
  "language_info": {
   "codemirror_mode": {
    "name": "ipython",
    "version": 3
   },
   "file_extension": ".py",
   "mimetype": "text/x-python",
   "name": "python",
   "nbconvert_exporter": "python",
   "pygments_lexer": "ipython3",
   "version": "3.13.0"
  }
 },
 "nbformat": 4,
 "nbformat_minor": 4
}
