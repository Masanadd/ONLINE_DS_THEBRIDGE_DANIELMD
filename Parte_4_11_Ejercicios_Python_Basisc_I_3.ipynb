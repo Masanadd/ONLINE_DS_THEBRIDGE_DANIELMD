{
 "cells": [
  {
   "cell_type": "markdown",
   "metadata": {
    "id": "OFouLD7WrGjb"
   },
   "source": [
    "![TheBridge_logo_RGB_color.jpg](attachment:TheBridge_logo_RGB_color.jpg)"
   ]
  },
  {
   "cell_type": "markdown",
   "metadata": {
    "id": "J05YUlDSrGje"
   },
   "source": [
    "![imagen](./img/ejercicios.png)"
   ]
  },
  {
   "cell_type": "markdown",
   "metadata": {
    "id": "oXmtuMIMrGjf"
   },
   "source": [
    "## EJERCICIOS PYTHON BASICO 3:\n",
    "## Operaciones matemáticas, comparación y booleanas"
   ]
  },
  {
   "cell_type": "markdown",
   "metadata": {
    "id": "QmcbvVxCrGjf"
   },
   "source": [
    "Completa los siguiente ejercicios, la solución completa a los mismos se publicarán en el repo del curso a lo largo del sprint. En algunos ejercicios se muestra la solución final, para que puedas comprobar que lo has hecho bien, pero lo importante es el código que generes. ¡Vaaamos, a ello...!"
   ]
  },
  {
   "cell_type": "markdown",
   "metadata": {
    "id": "y5T-dBnwrGjg"
   },
   "source": [
    "![ejercicio.png](./img/ejercicio.png)\n",
    "\n",
    "\n",
    "## Ejercicio 1\n",
    "Tenemos las siguientes variables:\n",
    "\n",
    "```Python\n",
    "A = 4\n",
    "B = \"Text\"\n",
    "C = 4.1\n",
    "```\n",
    "\n",
    "Comprueba:\n",
    "1. Si A y B son equivalentes\n",
    "2. Si A y C NO son equivalentes\n",
    "3. Si A es mayor que C\n",
    "4. Si C es menor o igual que A\n",
    "5. Si B NO es equivalente a C"
   ]
  },
  {
   "cell_type": "code",
   "execution_count": 3,
   "metadata": {
    "id": "F9cahO5qrGjg",
    "outputId": "c3593141-ae3f-41d5-bce0-c6ab37390747"
   },
   "outputs": [
    {
     "name": "stdout",
     "output_type": "stream",
     "text": [
      "False\n",
      "True\n",
      "False\n",
      "False\n",
      "True\n"
     ]
    }
   ],
   "source": [
    "A=4\n",
    "B=\"casa\"\n",
    "C=4.1\n",
    "A==B\n",
    "print(A==B)\n",
    "A!=C\n",
    "print(A!=C)\n",
    "A>C\n",
    "print(A>C)\n",
    "C<=A\n",
    "print(C<=A)\n",
    "B!=C\n",
    "print(B!=C)"
   ]
  },
  {
   "cell_type": "markdown",
   "metadata": {
    "id": "52SFYHkRrGjh"
   },
   "source": [
    "![ejercicio.png](./img/ejercicio.png)\n",
    "\n",
    "## Ejercicio 2\n",
    "Crea un programa donde se recojan dos inputs del usuario, y el output del programa sea si esos inputs son iguales o no"
   ]
  },
  {
   "cell_type": "code",
   "execution_count": 4,
   "metadata": {
    "id": "OaaZdTSJrGjh"
   },
   "outputs": [
    {
     "name": "stdin",
     "output_type": "stream",
     "text": [
      "introduce un valor: 3\n",
      "introcude segundo valor: 4\n"
     ]
    },
    {
     "name": "stdout",
     "output_type": "stream",
     "text": [
      "valores diferentes\n"
     ]
    }
   ],
   "source": [
    "input_1=input(\"introduce un valor:\")\n",
    "input_2=input(\"introcude segundo valor:\")\n",
    "if input_1==input_2:\n",
    "    print(\"valores iguales\")\n",
    "else:\n",
    "    print(\"valores diferentes\")\n"
   ]
  },
  {
   "cell_type": "markdown",
   "metadata": {
    "id": "hSWrmObgrGji"
   },
   "source": [
    "![ejercicio.png](./img/ejercicio.png)\n",
    "\n",
    "## Ejercicio 3\n",
    "Mismo programa que en 2, pero en esta ocasión tienen que ser tres inputs y dos salidas. Una de las salidas que nos indique si todos son iguales, y la otra si al menos dos inputs sí que lo son"
   ]
  },
  {
   "cell_type": "code",
   "execution_count": 11,
   "metadata": {
    "id": "XDDaGJa7rGji",
    "outputId": "c2162ddd-52bd-41b6-d0fa-57a314e5efb4"
   },
   "outputs": [
    {
     "name": "stdin",
     "output_type": "stream",
     "text": [
      "introduce un valor: 3\n",
      "introcude segundo valor: 3\n",
      "introduce tercer valor: 4\n"
     ]
    },
    {
     "name": "stdout",
     "output_type": "stream",
     "text": [
      "valores diferentes\n",
      "al menos 2 valores son iguales\n"
     ]
    }
   ],
   "source": [
    "input_1=input(\"introduce un valor:\")\n",
    "input_2=input(\"introcude segundo valor:\")\n",
    "input_3=input(\"introduce tercer valor:\")\n",
    "if input_1==input_2==input_3:\n",
    "    print(\"los 3 valores son iguales\")\n",
    "else:\n",
    "    print(\"valores diferentes\")\n",
    "if input_1 == input_2 or input_1 == input_3 or input_2 == input_3:\n",
    "    print(\"al menos 2 valores son iguales\")\n",
    "else:\n",
    "    print(\"al menos 2 valores no coinciden\")"
   ]
  },
  {
   "cell_type": "markdown",
   "metadata": {
    "id": "H77BOcy9rGji"
   },
   "source": [
    "![ejercicio.png](./img/ejercicio.png)\n",
    "\n",
    "## Ejercicio 4\n",
    "Razona sin ejecutar código el output que obtendremos de las siguientes sentencias\n",
    "1. True and True and False\n",
    "2. not ((True or False) and (True or False))\n",
    "3. (False or False or False or True) and False\n",
    "4. not False and True and not True"
   ]
  },
  {
   "cell_type": "markdown",
   "metadata": {
    "id": "iUNdVla2rGji"
   },
   "source": [
    "False\n",
    "False\n",
    "False\n",
    "False"
   ]
  }
 ],
 "metadata": {
  "colab": {
   "provenance": []
  },
  "kernelspec": {
   "display_name": "Python 3 (ipykernel)",
   "language": "python",
   "name": "python3"
  },
  "language_info": {
   "codemirror_mode": {
    "name": "ipython",
    "version": 3
   },
   "file_extension": ".py",
   "mimetype": "text/x-python",
   "name": "python",
   "nbconvert_exporter": "python",
   "pygments_lexer": "ipython3",
   "version": "3.13.0"
  }
 },
 "nbformat": 4,
 "nbformat_minor": 4
}
